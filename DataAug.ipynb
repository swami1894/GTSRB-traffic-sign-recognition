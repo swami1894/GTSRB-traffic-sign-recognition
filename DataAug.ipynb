{
 "cells": [
  {
   "cell_type": "markdown",
   "metadata": {},
   "source": [
    "## Image augmentation using Albumentations."
   ]
  },
  {
   "cell_type": "markdown",
   "metadata": {},
   "source": [
    "This program uses seed function to ensure the same transformation is applied in every run, but it does not apply the transformation to the same extant (the degree of of rotations, the level of blur might vary)."
   ]
  },
  {
   "cell_type": "code",
   "execution_count": 1,
   "metadata": {},
   "outputs": [],
   "source": [
    "# Importing necessary libraries\n",
    "\n",
    "import os\n",
    "import cv2\n",
    "import numpy as np\n",
    "import random\n",
    "import albumentations as A"
   ]
  },
  {
   "cell_type": "code",
   "execution_count": 2,
   "metadata": {},
   "outputs": [],
   "source": [
    "# Creating a list of seed values for applying the transformation and the number of images for each class.\n",
    "\n",
    "seed_list = list()\n",
    "sample_list = list()\n",
    "\n",
    "random.seed(99)\n",
    "\n",
    "for _ in range(43):\n",
    "    seed_list.append(random.randint(100, 999))\n",
    "    sample_list.append(random.randint(9750, 10250))"
   ]
  },
  {
   "cell_type": "code",
   "execution_count": 3,
   "metadata": {},
   "outputs": [
    {
     "name": "stdout",
     "output_type": "stream",
     "text": [
      "Array [513, 304, 283, 354, 878, 357, 492, 800, 651, 738, 304, 839, 702, 911, 907, 942, 982, 317, 572, 283, 680, 184, 833, 793, 189, 423, 143, 671, 535, 471, 647, 573, 302, 573, 152, 232, 832, 865, 552, 281, 615, 280, 212]\n",
      "Sum 23167\n",
      "Mean 538.7674418604652\n",
      "Min 143\n",
      "Max 982\n"
     ]
    }
   ],
   "source": [
    "# Ensure you get the same values in output section as the comment below for the list of seed values.\n",
    "\n",
    "# Array [513, 304, 283, 354, 878, 357, 492, 800, 651, 738, 304, 839, 702, 911, 907, 942, 982, 317, 572, \n",
    "# 283, 680, 184, 833, 793, 189, 423, 143, 671, 535, 471, 647, 573, 302, 573, 152, 232, 832, 865, 552, 281, \n",
    "# 615, 280, 212]\n",
    "# Sum 23167\n",
    "# Mean 538.7674418604652\n",
    "# Min 143\n",
    "# Max 982\n",
    "\n",
    "print(\"Array\", seed_list)\n",
    "print(\"Sum\", np.sum(np.asarray(seed_list)))\n",
    "print(\"Mean\", np.mean(np.asarray(seed_list)))\n",
    "print(\"Min\", np.min(np.asarray(seed_list)))\n",
    "print(\"Max\", np.max(np.asarray(seed_list)))"
   ]
  },
  {
   "cell_type": "code",
   "execution_count": 4,
   "metadata": {},
   "outputs": [
    {
     "name": "stdout",
     "output_type": "stream",
     "text": [
      "Array [9944, 10056, 9867, 9818, 9794, 10123, 10021, 10108, 9795, 10000, 9965, 10063, 9860, 10211, 9941, 9948, 10099, 9827, 10088, 10185, 9923, 10234, 10020, 10146, 9990, 9956, 9887, 9753, 9854, 10227, 9791, 10015, 10060, 10250, 9933, 9860, 9832, 10155, 10054, 10233, 10088, 9768, 9761]\n",
      "Sum 429503\n",
      "Mean 9988.441860465116\n",
      "Min 9753\n",
      "Max 10250\n"
     ]
    }
   ],
   "source": [
    "# Ensure you get the same values in output section as the comment below for the number of images in each class.\n",
    "\n",
    "# Array [9944, 10056, 9867, 9818, 9794, 10123, 10021, 10108, 9795, 10000, 9965, 10063, 9860, 10211, 9941, 9948, \n",
    "# 10099, 9827, 10088, 10185, 9923, 10234, 10020, 10146, 9990, 9956, 9887, 9753, 9854, 10227, 9791, 10015, 10060, \n",
    "# 10250, 9933, 9860, 9832, 10155, 10054, 10233, 10088, 9768, 9761]\n",
    "# Sum 429503\n",
    "# Mean 9988.441860465116\n",
    "# Min 9753\n",
    "# Max 10250\n",
    "\n",
    "print(\"Array\", sample_list)\n",
    "print(\"Sum\", np.sum(np.asarray(sample_list)))\n",
    "print(\"Mean\", np.mean(np.asarray(sample_list)))\n",
    "print(\"Min\", np.min(np.asarray(sample_list)))\n",
    "print(\"Max\", np.max(np.asarray(sample_list)))"
   ]
  },
  {
   "cell_type": "code",
   "execution_count": 5,
   "metadata": {},
   "outputs": [],
   "source": [
    "# Applying the augmentation for images in the based on the random number generated in the range of 0 to 4.\n",
    "\n",
    "def Augment_images(img, choice):\n",
    "    \n",
    "    if choice == 0:\n",
    "        PerspectiveTransform = A.Compose([A.Perspective(scale=(0.05, 0.1), keep_size=True, pad_mode=0, pad_val=0, \n",
    "                                    mask_pad_val=0, fit_output=False, interpolation=1, always_apply=True, p=1)])\n",
    "        transformedimg = PerspectiveTransform(image=img)['image']\n",
    "        \n",
    "    elif choice ==1:\n",
    "        ScaleRotation = A.Compose([A.ShiftScaleRotate(shift_limit=0.075, scale_limit=0.1, rotate_limit=60, \n",
    "                                    interpolation=1, border_mode=4, value=None, mask_value=None, \n",
    "                                    shift_limit_x=None, shift_limit_y=None, always_apply=True, p=1)])\n",
    "            \n",
    "        transformedimg = ScaleRotation(image=img)['image']\n",
    "    \n",
    "    elif choice == 2:\n",
    "        MotionBlur = A.Compose([A.MotionBlur(blur_limit=(3, 7), always_apply=True, p=1)])\n",
    "        \n",
    "        transformedimg = MotionBlur(image=img)['image']\n",
    "        \n",
    "    elif choice == 3:\n",
    "        randomRotate = A.Compose([A.Rotate(limit=[-50, 50], interpolation=cv2.INTER_LINEAR, border_mode=4, \n",
    "                                    value=None, mask_value=None, always_apply=True, p=1.0)])\n",
    "        transformedimg = randomRotate(image=img)['image']\n",
    "        \n",
    "    else:\n",
    "        flipHorizontal = A.Compose([A.HorizontalFlip])\n",
    "        transformedimg = flipHorizontal(image=img)['image']\n",
    "            \n",
    "    return transformedimg"
   ]
  },
  {
   "cell_type": "code",
   "execution_count": 6,
   "metadata": {},
   "outputs": [],
   "source": [
    "# The classes in the list if flipped will contridict the pattern of another sign belonging to different class.\n",
    "NO_HFLIP = [0, 1, 2, 3, 4, 5, 6, 7, 8, 14, 19, 20, 33, 34, 36, 37, 38, 39]\n",
    "\n",
    "for dirname in os.listdir('Training_Data'):\n",
    "    \n",
    "    auged_samples = sample_list[int(dirname)] - len(os.listdir(os.path.join('Training_Data', dirname)))\n",
    "    \n",
    "    samples = os.listdir(os.path.join('Training_Data', dirname))\n",
    "    \n",
    "    # collecting the seed value from the seed list created to ensure that same random number is generated in every execution.\n",
    "    random.seed(seed_list[int(dirname)])\n",
    "    \n",
    "    # Augmenting the original images until the set number of images per class is reached.\n",
    "    while auged_samples >= 0:\n",
    "        for sample in samples:\n",
    "            try:\n",
    "                #load the image\n",
    "                img = cv2.imread(os.path.join('Training_Data', dirname, sample))\n",
    "                img = cv2.cvtColor(img, cv2.COLOR_BGR2RGB)\n",
    "                # Apply the transformation\n",
    "                if int(dirname) not in NO_HFLIP:\n",
    "                    img = Augment_images(img, random.randint(0, 4))\n",
    "                else:\n",
    "                    img = Augment_images(img, random.randint(0, 3))\n",
    "                # the augmented image.\n",
    "                name, extn = os.path.splitext(sample)\n",
    "                fname = f'aug_{auged_samples}_{name}.{extn}'\n",
    "                auged_samples = auged_samples - 1\n",
    "                img = cv2.cvtColor(img, cv2.COLOR_RGB2BGR)\n",
    "                cv2.imwrite(os.path.join('Training_Data', dirname, fname), img)\n",
    "            \n",
    "            except Exception as e:\n",
    "                print(e)\n",
    "            \n",
    "            if auged_samples < 0:\n",
    "                break"
   ]
  }
 ],
 "metadata": {
  "kernelspec": {
   "display_name": "Python 3",
   "language": "python",
   "name": "python3"
  },
  "language_info": {
   "codemirror_mode": {
    "name": "ipython",
    "version": 3
   },
   "file_extension": ".py",
   "mimetype": "text/x-python",
   "name": "python",
   "nbconvert_exporter": "python",
   "pygments_lexer": "ipython3",
   "version": "3.7.6"
  }
 },
 "nbformat": 4,
 "nbformat_minor": 2
}
