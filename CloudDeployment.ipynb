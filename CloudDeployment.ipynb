{
 "cells": [
  {
   "cell_type": "code",
   "execution_count": null,
   "id": "6edcf651",
   "metadata": {},
   "outputs": [],
   "source": [
    "import os\n",
    "import tensorflow as tf\n",
    "from tensorflow.keras.models import load_model\n",
    "\n",
    "import sagemaker\n",
    "import boto3, re\n",
    "from sagemaker.session import Session\n",
    "from sagemaker import get_execution_role\n",
    "from sagemaker.tensorflow.model import TensorFlowModel\n",
    "`\n",
    "import cv2\n",
    "import matplotlib.pyplot as plt\n",
    "import numpy as np"
   ]
  },
  {
   "cell_type": "code",
   "execution_count": null,
   "id": "d820925a",
   "metadata": {},
   "outputs": [],
   "source": [
    "tf.__version__"
   ]
  },
  {
   "cell_type": "code",
   "execution_count": null,
   "id": "fa82a657",
   "metadata": {},
   "outputs": [],
   "source": [
    "if tf.executing_eagerly():\n",
    "    tf.compat.v1.disable_eager_execution()"
   ]
  },
  {
   "cell_type": "code",
   "execution_count": null,
   "id": "6613d378",
   "metadata": {},
   "outputs": [],
   "source": [
    "IMSIZE = 49\n",
    "\n",
    "Classes = ['speed limit 20 (prohibitory)', 'speed limit 30 (prohibitory)', 'speed limit 50 (prohibitory)',\n",
    "           'speed limit 60 (prohibitory)', 'speed limit 70 (prohibitory)', 'speed limit 80 (prohibitory)',\n",
    "           'restriction ends 80 (other)', 'speed limit 100 (prohibitory)', 'speed limit 120 (prohibitory)',\n",
    "           'no overtaking (prohibitory)', 'no overtaking (trucks) (prohibitory)', 'priority at next intersection (danger)',\n",
    "           'priority road (other)', 'give way (other)', 'stop (other)', 'no traffic both ways (prohibitory)',\n",
    "           'no trucks (prohibitory)', 'no entry (other)', 'danger (danger)', 'bend left (danger)', 'bend right (danger)', \n",
    "           'bend (danger)', 'uneven road (danger)', 'slippery road (danger)', 'road narrows (danger)', 'construction (danger)',\n",
    "           'traffic signal (danger)', 'pedestrian crossing (danger)', 'school crossing (danger)', 'cycles crossing (danger)',\n",
    "           'snow (danger)', 'animals (danger)', 'restriction ends (other)', 'go right (mandatory)', 'go left (mandatory)', \n",
    "           'go straight (mandatory)', 'go right or straight (mandatory)', 'go left or straight (mandatory)', \n",
    "           'keep right (mandatory)', 'keep left (mandatory)', 'roundabout (mandatory)', \n",
    "           'restriction ends (overtaking) (other)', 'restriction ends (overtaking (trucks)) (other)']\n",
    "\n",
    "def readimg(pth):\n",
    "    img = cv2.imread(pth)\n",
    "    img = cv2.cvtColor(img, cv2.COLOR_BGR2RGB)\n",
    "    img = cv2.resize(img, (IMSIZE, IMSIZE), interpolation = cv2.INTER_AREA)\n",
    "    plt.imshow(img)\n",
    "    plt.show()\n",
    "    img = img/255.0\n",
    "    img = np.array(img).reshape(-1, IMSIZE, IMSIZE, 3)\n",
    "    return img "
   ]
  },
  {
   "cell_type": "code",
   "execution_count": null,
   "id": "71f9bf1d",
   "metadata": {},
   "outputs": [],
   "source": [
    "deepNet = load_model('deepNet.46-0.0982.h5')   # update the model to be deployed."
   ]
  },
  {
   "cell_type": "code",
   "execution_count": null,
   "id": "9c08563a",
   "metadata": {},
   "outputs": [],
   "source": [
    "# Creating the model signature i.e. input and output size.\n",
    "\n",
    "prediction_signature = tf.compat.v1.saved_model.signature_def_utils.predict_signature_def(\n",
    "    {\"images\": deepNet.input}, {\"detections\": deepNet.output})"
   ]
  },
  {
   "cell_type": "code",
   "execution_count": null,
   "id": "5388744f",
   "metadata": {},
   "outputs": [],
   "source": [
    "# Creating path to save the model.\n",
    "\n",
    "export_path = os.path.join(\n",
    "    tf.compat.as_bytes('deepNet'),\n",
    "    tf.compat.as_bytes('1'))"
   ]
  },
  {
   "cell_type": "code",
   "execution_count": null,
   "id": "a731e52f",
   "metadata": {},
   "outputs": [],
   "source": [
    "builder = tf.compat.v1.saved_model.builder.SavedModelBuilder(export_path)"
   ]
  },
  {
   "cell_type": "code",
   "execution_count": null,
   "id": "0d7b9c07",
   "metadata": {},
   "outputs": [],
   "source": [
    "keras_session = tf.compat.v1.keras.backend.get_session()"
   ]
  },
  {
   "cell_type": "code",
   "execution_count": null,
   "id": "7f75ce7f",
   "metadata": {},
   "outputs": [],
   "source": [
    "# Saving the model in protobuffer format for deployment.\n",
    "\n",
    "builder.add_meta_graph_and_variables(keras_session, [tf.compat.v1.saved_model.tag_constants.SERVING],\n",
    "                                     signature_def_map={'serving_default': prediction_signature,})\n",
    "\n",
    "builder.save()"
   ]
  },
  {
   "cell_type": "code",
   "execution_count": null,
   "id": "c436297b",
   "metadata": {},
   "outputs": [],
   "source": [
    "# Creating the zip file of the model saved in protobuff format to store in the storage bucket.\n",
    "\n",
    "!tar -C \"$PWD\" -czf deepNet-01.tar.gz deepNet/"
   ]
  },
  {
   "cell_type": "code",
   "execution_count": null,
   "id": "ea58436e",
   "metadata": {},
   "outputs": [],
   "source": [
    "sagemaker_session = Session()\n",
    "model_data = sagemaker_session.upload_data(path='deepNet-01.tar.gz', key_prefix='model')"
   ]
  },
  {
   "cell_type": "code",
   "execution_count": null,
   "id": "a9a938e7",
   "metadata": {},
   "outputs": [],
   "source": [
    "sagemaker_bucket = sagemaker_session.default_bucket()\n",
    "print(\"Bucket name is:\", sagemaker_bucket)"
   ]
  },
  {
   "cell_type": "code",
   "execution_count": null,
   "id": "7439df2c",
   "metadata": {},
   "outputs": [],
   "source": [
    "!touch train.py  # create an empty .py file to create an entry point."
   ]
  },
  {
   "cell_type": "code",
   "execution_count": null,
   "id": "7d67ed57",
   "metadata": {},
   "outputs": [],
   "source": [
    "# Any operation in AWS is done be creating a role. This step involves obtaining the role and uplaoding the model details to\n",
    "# sagemaker\n",
    "\n",
    "role = get_execution_role()\n",
    "\n",
    "from sagemaker.tensorflow.model import TensorFlowModel\n",
    "sagemaker_model = TensorFlowModel(model_data = f's3://{sagemaker_bucket}/model/deepNet-01.tar.gz',   # location of zip file\n",
    "                                  role = role, # execution role \n",
    "                                  framework_version = '2.4.1', # update appropriate tensorflow version\n",
    "                                  entry_point = 'train.py')"
   ]
  },
  {
   "cell_type": "code",
   "execution_count": null,
   "id": "8ad7b2a8",
   "metadata": {},
   "outputs": [],
   "source": [
    "# Deploying the model to the endpoint\n",
    "\n",
    "predictor = sagemaker_model.deploy(initial_instance_count=1,\n",
    "                                   instance_type='ml.m4.xlarge')"
   ]
  },
  {
   "cell_type": "code",
   "execution_count": null,
   "id": "73f5a973",
   "metadata": {},
   "outputs": [],
   "source": [
    "# Obtaining the endpoint to make the predictions\n",
    "\n",
    "endpoint = predictor.endpoint\n",
    "endpoint"
   ]
  },
  {
   "cell_type": "code",
   "execution_count": null,
   "id": "feb6077b",
   "metadata": {},
   "outputs": [],
   "source": [
    "endpoint = ''  # upload the endpoint obtained in the previous step.\n",
    "\n",
    "predictor=sagemaker.tensorflow.model.TensorFlowPredictor(endpoint, sagemaker_session)\n",
    "\n",
    "data = readimg('')   # <-- Add the image to be predicted\n",
    "\n",
    "def predicted_sign(input_data):\n",
    "    return Classes[np.argmax(predictor.predict(input_data)['predictions'][0])]\n",
    "\n",
    "alg_prediction = predicted_sign(data)\n",
    "alg_prediction"
   ]
  }
 ],
 "metadata": {
  "kernelspec": {
   "display_name": "Python 3",
   "language": "python",
   "name": "python3"
  },
  "language_info": {
   "codemirror_mode": {
    "name": "ipython",
    "version": 3
   },
   "file_extension": ".py",
   "mimetype": "text/x-python",
   "name": "python",
   "nbconvert_exporter": "python",
   "pygments_lexer": "ipython3",
   "version": "3.7.6"
  }
 },
 "nbformat": 4,
 "nbformat_minor": 5
}
