{
 "cells": [
  {
   "cell_type": "code",
   "execution_count": 7,
   "metadata": {},
   "outputs": [],
   "source": [
    "# Importing necessary libraries.\n",
    "import os\n",
    "import numpy as np\n",
    "import matplotlib.pyplot as plt\n",
    "import random\n",
    "import tensorflow as tf\n",
    "from tensorflow.data import Dataset\n",
    "from tensorflow.keras.models import Sequential\n",
    "from tensorflow.keras.layers import Dense, Dropout, Activation, Flatten, Conv2D, MaxPooling2D\n",
    "from tensorflow import keras\n",
    "import cv2\n",
    "import pandas as pd"
   ]
  },
  {
   "cell_type": "code",
   "execution_count": 8,
   "metadata": {},
   "outputs": [
    {
     "data": {
      "text/plain": [
       "'2.4.1'"
      ]
     },
     "execution_count": 8,
     "metadata": {},
     "output_type": "execute_result"
    }
   ],
   "source": [
    "# Checking the tensorflow version. It is important to know the version as it comes handy during deployment. \n",
    "tf.__version__"
   ]
  },
  {
   "cell_type": "code",
   "execution_count": 9,
   "metadata": {},
   "outputs": [],
   "source": [
    "# Global variables.\n",
    "IMSIZE = 49\n",
    "BATCH_SIZE = 8\n",
    "THREADS = 32\n",
    "SEED = 125\n",
    "EPSILON = 0.001\n",
    "N_CLASSES = 43\n",
    "PATH = 'Training_Data'"
   ]
  },
  {
   "cell_type": "code",
   "execution_count": 10,
   "metadata": {},
   "outputs": [],
   "source": [
    "# Initializing variables.\n",
    "filenames = []\n",
    "labels = []\n",
    "train_X = []\n",
    "train_y = []\n",
    "validation_X = []\n",
    "validation_y = []"
   ]
  },
  {
   "cell_type": "code",
   "execution_count": 11,
   "metadata": {},
   "outputs": [],
   "source": [
    "# Creating one hot vector for each class.\n",
    "Categories = np.eye(43)"
   ]
  },
  {
   "cell_type": "code",
   "execution_count": 12,
   "metadata": {},
   "outputs": [],
   "source": [
    "# Creating the list of images in every class.\n",
    "for dirname in os.listdir(PATH):\n",
    "    for fname in os.listdir(os.path.join(PATH, dirname)):\n",
    "        filenames.append(str(os.path.join(PATH, dirname, fname)))"
   ]
  },
  {
   "cell_type": "code",
   "execution_count": 13,
   "metadata": {},
   "outputs": [],
   "source": [
    "# Shuffeling the data\n",
    "random.seed(SEED)\n",
    "random.shuffle(filenames)"
   ]
  },
  {
   "cell_type": "code",
   "execution_count": 14,
   "metadata": {},
   "outputs": [
    {
     "name": "stdout",
     "output_type": "stream",
     "text": [
      "Training_Data\\00035\\aug_4599_00010_00011..bmp\n"
     ]
    }
   ],
   "source": [
    "print(filenames[0])"
   ]
  },
  {
   "cell_type": "code",
   "execution_count": 15,
   "metadata": {},
   "outputs": [],
   "source": [
    "# Creating the labels vector.\n",
    "for filename in filenames:\n",
    "    labels.append(Categories[int(filename.split('\\\\')[-2])])"
   ]
  },
  {
   "cell_type": "code",
   "execution_count": 16,
   "metadata": {
    "scrolled": true
   },
   "outputs": [
    {
     "name": "stdout",
     "output_type": "stream",
     "text": [
      "dataset length 429546\n",
      "train dataset length 343636\n"
     ]
    }
   ],
   "source": [
    "# Split data into training and validation.\n",
    "dataset = list(zip(filenames, labels))\n",
    "print(\"dataset length\", len(dataset))\n",
    "print(\"train dataset length\", int(0.8*len(dataset)))\n",
    "train_dataset = dataset[:int(len(dataset)*0.8)]\n",
    "validation_dataset = dataset[int(len(dataset)*0.8):]"
   ]
  },
  {
   "cell_type": "code",
   "execution_count": 17,
   "metadata": {},
   "outputs": [],
   "source": [
    "# Creatig the vector of training images and labels.\n",
    "for feature, label in train_dataset:\n",
    "    train_X.append(feature)\n",
    "    train_y.append(label)"
   ]
  },
  {
   "cell_type": "code",
   "execution_count": 18,
   "metadata": {},
   "outputs": [],
   "source": [
    "# Creatig the vector of validation images and labels.\n",
    "for feature, label in validation_dataset:\n",
    "    validation_X.append(feature)\n",
    "    validation_y.append(label)"
   ]
  },
  {
   "cell_type": "code",
   "execution_count": 19,
   "metadata": {},
   "outputs": [],
   "source": [
    "# Image preprocessing function.\n",
    "def parse_function(filename, label):\n",
    "    image_string = tf.io.read_file(filename)\n",
    "    image = tf.image.decode_bmp(image_string, channels=3)\n",
    "    image = tf.image.convert_image_dtype(image, tf.float32)\n",
    "    image = tf.image.resize(image, [IMSIZE, IMSIZE])\n",
    "    return image, label"
   ]
  },
  {
   "cell_type": "code",
   "execution_count": 20,
   "metadata": {},
   "outputs": [],
   "source": [
    "# tensorflow function to create a datapipeline and load training images to RAM/GPU.\n",
    "train_data = Dataset.from_tensor_slices((train_X, train_y))\n",
    "train_data = train_data.shuffle(len(train_X))\n",
    "train_data = train_data.map(parse_function, num_parallel_calls=THREADS)\n",
    "train_data = train_data.batch(BATCH_SIZE)\n",
    "train_data = train_data.prefetch(1)"
   ]
  },
  {
   "cell_type": "code",
   "execution_count": 21,
   "metadata": {},
   "outputs": [],
   "source": [
    "# tensorflow function to create a datapipeline and load validation images to RAM/GPU.\n",
    "validation_data = Dataset.from_tensor_slices((validation_X, validation_y))\n",
    "validation_data = validation_data.shuffle(len(train_X))\n",
    "validation_data = validation_data.map(parse_function, num_parallel_calls=THREADS)\n",
    "validation_data = validation_data.batch(BATCH_SIZE)\n",
    "validation_data = validation_data.prefetch(1)"
   ]
  },
  {
   "cell_type": "code",
   "execution_count": 22,
   "metadata": {},
   "outputs": [],
   "source": [
    "# Creating the model.\n",
    "def Model(output_classes):\n",
    "    \n",
    "    model = Sequential()\n",
    "\n",
    "    model.add(Conv2D(32, (3,3), strides=(1,1), padding='same', activation = 'relu', \n",
    "                     input_shape = (IMSIZE, IMSIZE, 3)))\n",
    "    model.add(MaxPooling2D(pool_size=(2,2)))\n",
    "\n",
    "    model.add(Conv2D(32, (3,3), strides=(1,1), padding='same', \n",
    "                     activation = 'relu'))\n",
    "    model.add(MaxPooling2D(pool_size=(2,2)))\n",
    "\n",
    "    model.add(Conv2D(64, (3,3), strides=(1,1), padding='same', \n",
    "                     activation = 'relu'))\n",
    "    model.add(Conv2D(64, (3,3), strides=(1,1), padding='same', \n",
    "                     activation = 'relu'))\n",
    "    model.add(Conv2D(128, (3,3), strides=(1,1), padding='same', \n",
    "                     activation = 'relu'))\n",
    "\n",
    "    model.add(MaxPooling2D(pool_size=(2,2)))\n",
    "\n",
    "    model.add(Flatten())\n",
    "    model.add(Dense(128))\n",
    "    model.add(Dense(64))\n",
    "    model.add(Dense(32))   #newly added\n",
    "    model.add(Dense(output_classes))\n",
    "    model.add(Activation(\"softmax\"))\n",
    "    \n",
    "    return model"
   ]
  },
  {
   "cell_type": "code",
   "execution_count": 23,
   "metadata": {},
   "outputs": [],
   "source": [
    "# Initialize model.\n",
    "deepNet = Model(N_CLASSES)"
   ]
  },
  {
   "cell_type": "code",
   "execution_count": 24,
   "metadata": {},
   "outputs": [],
   "source": [
    "# Create model checkpoints to save the model weights and bias after every epoch.\n",
    "save_status = [tf.keras.callbacks.ModelCheckpoint(filepath='Saved_ephocs_v3.0\\\\deepNet.{epoch:02d}-{val_loss:.4f}.h5')]"
   ]
  },
  {
   "cell_type": "code",
   "execution_count": 25,
   "metadata": {},
   "outputs": [],
   "source": [
    "# Compile model.\n",
    "deepNet.compile(loss='categorical_crossentropy', optimizer=tf.keras.optimizers.Adam(learning_rate=3e-4), \n",
    "              metrics=['accuracy'])"
   ]
  },
  {
   "cell_type": "code",
   "execution_count": 26,
   "metadata": {
    "scrolled": false
   },
   "outputs": [
    {
     "name": "stdout",
     "output_type": "stream",
     "text": [
      "Epoch 1/50\n",
      "42955/42955 [==============================] - 1493s 35ms/step - loss: 0.7010 - accuracy: 0.7962 - val_loss: 0.0666 - val_accuracy: 0.9789\n",
      "Epoch 2/50\n",
      "42955/42955 [==============================] - 1100s 26ms/step - loss: 0.0597 - accuracy: 0.9817 - val_loss: 0.0623 - val_accuracy: 0.9816\n",
      "Epoch 3/50\n",
      "42955/42955 [==============================] - 869s 20ms/step - loss: 0.0402 - accuracy: 0.9880 - val_loss: 0.0425 - val_accuracy: 0.9886\n",
      "Epoch 4/50\n",
      "42955/42955 [==============================] - 868s 20ms/step - loss: 0.0319 - accuracy: 0.9905 - val_loss: 0.0385 - val_accuracy: 0.9893\n",
      "Epoch 5/50\n",
      "42955/42955 [==============================] - 874s 20ms/step - loss: 0.0288 - accuracy: 0.9918 - val_loss: 0.0500 - val_accuracy: 0.9874\n",
      "Epoch 6/50\n",
      "42955/42955 [==============================] - 877s 20ms/step - loss: 0.0266 - accuracy: 0.9925 - val_loss: 0.0441 - val_accuracy: 0.9897\n",
      "Epoch 7/50\n",
      "42955/42955 [==============================] - 876s 20ms/step - loss: 0.0249 - accuracy: 0.9932 - val_loss: 0.0444 - val_accuracy: 0.9906\n",
      "Epoch 8/50\n",
      "42955/42955 [==============================] - 880s 20ms/step - loss: 0.0242 - accuracy: 0.9936 - val_loss: 0.0355 - val_accuracy: 0.9918\n",
      "Epoch 9/50\n",
      "42955/42955 [==============================] - 885s 21ms/step - loss: 0.0237 - accuracy: 0.9938 - val_loss: 0.0416 - val_accuracy: 0.9921\n",
      "Epoch 10/50\n",
      "42955/42955 [==============================] - 884s 21ms/step - loss: 0.0248 - accuracy: 0.9940 - val_loss: 0.0386 - val_accuracy: 0.9915\n",
      "Epoch 11/50\n",
      "42955/42955 [==============================] - 889s 21ms/step - loss: 0.0220 - accuracy: 0.9944 - val_loss: 0.0446 - val_accuracy: 0.9915\n",
      "Epoch 12/50\n",
      "42955/42955 [==============================] - 892s 21ms/step - loss: 0.0227 - accuracy: 0.9945 - val_loss: 0.0504 - val_accuracy: 0.9906\n",
      "Epoch 13/50\n",
      "42955/42955 [==============================] - 897s 21ms/step - loss: 0.0220 - accuracy: 0.9949 - val_loss: 0.0460 - val_accuracy: 0.9920\n",
      "Epoch 14/50\n",
      "42955/42955 [==============================] - 903s 21ms/step - loss: 0.0220 - accuracy: 0.9948 - val_loss: 0.0647 - val_accuracy: 0.9886\n",
      "Epoch 15/50\n",
      "42955/42955 [==============================] - 906s 21ms/step - loss: 0.0224 - accuracy: 0.9947 - val_loss: 0.0574 - val_accuracy: 0.9901\n",
      "Epoch 16/50\n",
      "42955/42955 [==============================] - 1052s 24ms/step - loss: 0.0229 - accuracy: 0.9950 - val_loss: 0.0486 - val_accuracy: 0.9919\n",
      "Epoch 17/50\n",
      "42955/42955 [==============================] - 992s 23ms/step - loss: 0.0240 - accuracy: 0.9949 - val_loss: 0.0536 - val_accuracy: 0.9913\n",
      "Epoch 18/50\n",
      "42955/42955 [==============================] - 882s 21ms/step - loss: 0.0239 - accuracy: 0.9951 - val_loss: 0.0424 - val_accuracy: 0.9932\n",
      "Epoch 19/50\n",
      "42955/42955 [==============================] - 890s 21ms/step - loss: 0.0219 - accuracy: 0.9955 - val_loss: 0.0808 - val_accuracy: 0.9883\n",
      "Epoch 20/50\n",
      "42955/42955 [==============================] - 888s 21ms/step - loss: 0.0239 - accuracy: 0.9954 - val_loss: 0.0424 - val_accuracy: 0.9931\n",
      "Epoch 21/50\n",
      "42955/42955 [==============================] - 906s 21ms/step - loss: 0.0230 - accuracy: 0.9956 - val_loss: 0.0352 - val_accuracy: 0.9942\n",
      "Epoch 22/50\n",
      "42955/42955 [==============================] - 983s 23ms/step - loss: 0.0215 - accuracy: 0.9956 - val_loss: 0.0477 - val_accuracy: 0.9932\n",
      "Epoch 23/50\n",
      "42955/42955 [==============================] - 949s 22ms/step - loss: 0.0261 - accuracy: 0.9956 - val_loss: 0.0392 - val_accuracy: 0.9942\n",
      "Epoch 24/50\n",
      "42955/42955 [==============================] - 952s 22ms/step - loss: 0.0230 - accuracy: 0.9956 - val_loss: 0.0765 - val_accuracy: 0.9899\n",
      "Epoch 25/50\n",
      "42955/42955 [==============================] - 994s 23ms/step - loss: 0.0227 - accuracy: 0.9957 - val_loss: 0.0635 - val_accuracy: 0.9920\n",
      "Epoch 26/50\n",
      "42955/42955 [==============================] - 983s 23ms/step - loss: 0.0252 - accuracy: 0.9958 - val_loss: 0.0679 - val_accuracy: 0.9916\n",
      "Epoch 27/50\n",
      "42955/42955 [==============================] - 986s 23ms/step - loss: 0.0274 - accuracy: 0.9954 - val_loss: 0.0483 - val_accuracy: 0.9941\n",
      "Epoch 28/50\n",
      "42955/42955 [==============================] - 998s 23ms/step - loss: 0.0262 - accuracy: 0.9958 - val_loss: 0.0809 - val_accuracy: 0.9913\n",
      "Epoch 29/50\n",
      "42955/42955 [==============================] - 993s 23ms/step - loss: 0.0245 - accuracy: 0.9959 - val_loss: 0.0605 - val_accuracy: 0.9919\n",
      "Epoch 30/50\n",
      "42955/42955 [==============================] - 994s 23ms/step - loss: 0.0280 - accuracy: 0.9956 - val_loss: 0.0499 - val_accuracy: 0.9941\n",
      "Epoch 31/50\n",
      "42955/42955 [==============================] - 995s 23ms/step - loss: 0.0288 - accuracy: 0.9957 - val_loss: 0.0612 - val_accuracy: 0.9927\n",
      "Epoch 32/50\n",
      "42955/42955 [==============================] - 1001s 23ms/step - loss: 0.0294 - accuracy: 0.9958 - val_loss: 0.0526 - val_accuracy: 0.9933\n",
      "Epoch 33/50\n",
      "42955/42955 [==============================] - 998s 23ms/step - loss: 0.0245 - accuracy: 0.9962 - val_loss: 0.0735 - val_accuracy: 0.9926\n",
      "Epoch 34/50\n",
      "42955/42955 [==============================] - 998s 23ms/step - loss: 0.0269 - accuracy: 0.9961 - val_loss: 0.0492 - val_accuracy: 0.9945\n",
      "Epoch 35/50\n",
      "42955/42955 [==============================] - 948s 22ms/step - loss: 0.0294 - accuracy: 0.9958 - val_loss: 0.0722 - val_accuracy: 0.9907\n",
      "Epoch 36/50\n",
      "42955/42955 [==============================] - 953s 22ms/step - loss: 0.0259 - accuracy: 0.9961 - val_loss: 0.0570 - val_accuracy: 0.9941\n",
      "Epoch 37/50\n",
      "42955/42955 [==============================] - 924s 22ms/step - loss: 0.0290 - accuracy: 0.9962 - val_loss: 0.1349 - val_accuracy: 0.9888\n",
      "Epoch 38/50\n",
      "42955/42955 [==============================] - 965s 22ms/step - loss: 0.0342 - accuracy: 0.9959 - val_loss: 0.0805 - val_accuracy: 0.9930\n",
      "Epoch 39/50\n",
      "42955/42955 [==============================] - 959s 22ms/step - loss: 0.0323 - accuracy: 0.9962 - val_loss: 0.0964 - val_accuracy: 0.9911\n",
      "Epoch 40/50\n",
      "42955/42955 [==============================] - 969s 23ms/step - loss: 0.0310 - accuracy: 0.9962 - val_loss: 0.0767 - val_accuracy: 0.9927\n",
      "Epoch 41/50\n",
      "42955/42955 [==============================] - 965s 22ms/step - loss: 0.0303 - accuracy: 0.9963 - val_loss: 0.0961 - val_accuracy: 0.9921\n",
      "Epoch 42/50\n",
      "42955/42955 [==============================] - 976s 23ms/step - loss: 0.0312 - accuracy: 0.9963 - val_loss: 0.0626 - val_accuracy: 0.9950\n",
      "Epoch 43/50\n",
      "42955/42955 [==============================] - 972s 23ms/step - loss: 0.0298 - accuracy: 0.9965 - val_loss: 0.0674 - val_accuracy: 0.9935\n",
      "Epoch 44/50\n",
      "42955/42955 [==============================] - 959s 22ms/step - loss: 0.0321 - accuracy: 0.9961 - val_loss: 0.1104 - val_accuracy: 0.9893\n",
      "Epoch 45/50\n",
      "42955/42955 [==============================] - 968s 23ms/step - loss: 0.0335 - accuracy: 0.9961 - val_loss: 0.0809 - val_accuracy: 0.9926\n",
      "Epoch 46/50\n",
      "42955/42955 [==============================] - 960s 22ms/step - loss: 0.0343 - accuracy: 0.9961 - val_loss: 0.0982 - val_accuracy: 0.9925\n",
      "Epoch 47/50\n",
      "42955/42955 [==============================] - 962s 22ms/step - loss: 0.0350 - accuracy: 0.9963 - val_loss: 0.0796 - val_accuracy: 0.9926\n",
      "Epoch 48/50\n",
      "42955/42955 [==============================] - 959s 22ms/step - loss: 0.0349 - accuracy: 0.9963 - val_loss: 0.1124 - val_accuracy: 0.9901\n",
      "Epoch 49/50\n",
      "42955/42955 [==============================] - 948s 22ms/step - loss: 0.0374 - accuracy: 0.9962 - val_loss: 0.1026 - val_accuracy: 0.9918\n",
      "Epoch 50/50\n",
      "42955/42955 [==============================] - 902s 21ms/step - loss: 0.0355 - accuracy: 0.9965 - val_loss: 0.0968 - val_accuracy: 0.9917\n"
     ]
    }
   ],
   "source": [
    "# Train model.\n",
    "model_design = deepNet.fit(train_data, validation_data=validation_data, \n",
    "                         epochs=50, callbacks=save_status)"
   ]
  },
  {
   "cell_type": "code",
   "execution_count": null,
   "metadata": {},
   "outputs": [],
   "source": [
    "# Visulize the change in loss value after every epoch.\n",
    "plt.figure(figsize=(8,6), facecolor='#848484', edgecolor='black')\n",
    "plt.title('Loss', fontsize= 24)\n",
    "plt.plot(model_design.history['loss'], label = 'train', color='#2E86C1')\n",
    "plt.plot(model_design.history['val_loss'], label = 'validation', color='#1D8348')\n",
    "plt.legend(prop={'size': 18})\n",
    "plt.xticks(np.arange(0, 55, 5),fontsize=12)\n",
    "plt.yticks(np.arange(0, 2, 0.05),fontsize=12)\n",
    "plt.ylabel('Loss', fontsize=18)\n",
    "plt.xlabel('Epochs', fontsize=18)\n",
    "plt.grid()\n",
    "plt.show()"
   ]
  },
  {
   "cell_type": "code",
   "execution_count": null,
   "metadata": {},
   "outputs": [],
   "source": [
    "# Scaling accuracy to the range of 100%.\n",
    "train_accuracy_list = np.array(model_design.history['accuracy'])*100\n",
    "val_accuracy_list = np.array(model_design.history['val_accuracy'])*100"
   ]
  },
  {
   "cell_type": "code",
   "execution_count": null,
   "metadata": {},
   "outputs": [],
   "source": [
    "# Visulize the change in accuracy value after every epoch.\n",
    "plt.figure(figsize=(16,9), facecolor='#848484', edgecolor='black')\n",
    "plt.title('Accuracy', fontsize= 24, fontname='Times New Roman')\n",
    "plt.plot(train_accuracy_list, label='train', color='#2E86C1')\n",
    "plt.plot(val_accuracy_list, label='validation', color='#1D8348')\n",
    "plt.legend(prop={'family':'Times New Roman', 'size':18})\n",
    "plt.xticks(np.arange(0, 110, 10),fontsize=12, fontname='Times New Roman')\n",
    "plt.yticks(np.arange(80, 101, 2),fontsize=12, fontname='Times New Roman')\n",
    "plt.ylabel('Accuracy', fontsize=18, fontname='Times New Roman')\n",
    "plt.xlabel('Epochs', fontsize=18, fontname='Times New Roman')\n",
    "plt.grid()\n",
    "plt.show()"
   ]
  },
  {
   "cell_type": "code",
   "execution_count": null,
   "metadata": {},
   "outputs": [],
   "source": []
  }
 ],
 "metadata": {
  "kernelspec": {
   "display_name": "tfnongpu",
   "language": "python",
   "name": "tfnongpu"
  },
  "language_info": {
   "codemirror_mode": {
    "name": "ipython",
    "version": 3
   },
   "file_extension": ".py",
   "mimetype": "text/x-python",
   "name": "python",
   "nbconvert_exporter": "python",
   "pygments_lexer": "ipython3",
   "version": "3.7.10"
  }
 },
 "nbformat": 4,
 "nbformat_minor": 2
}
